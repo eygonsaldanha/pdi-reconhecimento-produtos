{
 "cells": [
  {
   "cell_type": "code",
   "execution_count": 1,
   "id": "3f051dce",
   "metadata": {},
   "outputs": [],
   "source": [
    "from db_common import insert_data, select_data\n",
    "from io_minio import upload_img\n",
    "from common import generate_hash\n",
    "import os\n",
    "import random\n",
    "import datetime\n",
    "import cv2"
   ]
  },
  {
   "cell_type": "code",
   "execution_count": 2,
   "id": "5dd10f19",
   "metadata": {},
   "outputs": [],
   "source": [
    "def insert_data_in_product(full_path_file, id_product):\n",
    "    path_data = generate_hash(full_path_file)\n",
    "    id_data = select_data('SELECT COUNT(*) FROM DATA')['count'].iloc[0] + 1\n",
    "    \n",
    "    insert_data('data', [{'id_data': id_data, 'path_data': path_data, 'tp_data': 'IMG', 'dt_inclusion': datetime.datetime.now()}])\n",
    "    insert_data('product_data', [{'id_product': id_product, 'id_data': id_data}])\n",
    "    \n",
    "    img = cv2.imread(full_path_file)\n",
    "    extension = os.path.splitext(full_path_file)[1].replace('.', '').lower()\n",
    "    \n",
    "    upload_img(img, f'image/{extension}', key=path_data)"
   ]
  },
  {
   "cell_type": "code",
   "execution_count": 3,
   "id": "3d6d8e5b",
   "metadata": {},
   "outputs": [],
   "source": [
    "path = '../dataset'\n",
    "for name in os.listdir(path):\n",
    "    full_path = os.path.join(path, name)\n",
    "    if os.path.isdir(full_path):\n",
    "        id_product = select_data(\"SELECT COUNT(*) FROM PRODUCT\")['count'].iloc[0] + 1\n",
    "        insert_data('product', [{'id_product': id_product, 'nm_product': name, 'vl_product': round(5 + (random.random() * 15), 2)}])\n",
    "        for full_path_file in os.listdir(full_path):\n",
    "            full_path_file = os.path.join(full_path, full_path_file)\n",
    "            \n",
    "            insert_data_in_product(full_path_file, id_product)"
   ]
  },
  {
   "cell_type": "code",
   "execution_count": 4,
   "id": "2abede7e",
   "metadata": {},
   "outputs": [
    {
     "data": {
      "text/html": [
       "<div>\n",
       "<style scoped>\n",
       "    .dataframe tbody tr th:only-of-type {\n",
       "        vertical-align: middle;\n",
       "    }\n",
       "\n",
       "    .dataframe tbody tr th {\n",
       "        vertical-align: top;\n",
       "    }\n",
       "\n",
       "    .dataframe thead th {\n",
       "        text-align: right;\n",
       "    }\n",
       "</style>\n",
       "<table border=\"1\" class=\"dataframe\">\n",
       "  <thead>\n",
       "    <tr style=\"text-align: right;\">\n",
       "      <th></th>\n",
       "      <th>id_data</th>\n",
       "      <th>path_data</th>\n",
       "      <th>tp_data</th>\n",
       "      <th>dt_inclusion</th>\n",
       "    </tr>\n",
       "  </thead>\n",
       "  <tbody>\n",
       "    <tr>\n",
       "      <th>0</th>\n",
       "      <td>1</td>\n",
       "      <td>a8201eab663f463f48270a9b8</td>\n",
       "      <td>IMG</td>\n",
       "      <td>2025-10-30</td>\n",
       "    </tr>\n",
       "    <tr>\n",
       "      <th>1</th>\n",
       "      <td>2</td>\n",
       "      <td>3d3f333ec722fd2ac30bc504d</td>\n",
       "      <td>IMG</td>\n",
       "      <td>2025-10-30</td>\n",
       "    </tr>\n",
       "    <tr>\n",
       "      <th>2</th>\n",
       "      <td>3</td>\n",
       "      <td>da485b0d4098655423d68944f</td>\n",
       "      <td>IMG</td>\n",
       "      <td>2025-10-30</td>\n",
       "    </tr>\n",
       "    <tr>\n",
       "      <th>3</th>\n",
       "      <td>4</td>\n",
       "      <td>35174fa7d8b1efce6b748a73f</td>\n",
       "      <td>IMG</td>\n",
       "      <td>2025-10-30</td>\n",
       "    </tr>\n",
       "    <tr>\n",
       "      <th>4</th>\n",
       "      <td>5</td>\n",
       "      <td>322c0cf443a905adf95043c7b</td>\n",
       "      <td>IMG</td>\n",
       "      <td>2025-10-30</td>\n",
       "    </tr>\n",
       "    <tr>\n",
       "      <th>...</th>\n",
       "      <td>...</td>\n",
       "      <td>...</td>\n",
       "      <td>...</td>\n",
       "      <td>...</td>\n",
       "    </tr>\n",
       "    <tr>\n",
       "      <th>404</th>\n",
       "      <td>405</td>\n",
       "      <td>82e6db1690d028f2bb014a1c7</td>\n",
       "      <td>IMG</td>\n",
       "      <td>2025-10-30</td>\n",
       "    </tr>\n",
       "    <tr>\n",
       "      <th>405</th>\n",
       "      <td>406</td>\n",
       "      <td>b6bb4c55af5617834356f567c</td>\n",
       "      <td>IMG</td>\n",
       "      <td>2025-10-30</td>\n",
       "    </tr>\n",
       "    <tr>\n",
       "      <th>406</th>\n",
       "      <td>407</td>\n",
       "      <td>6c458ac0e3433df5dedc8c5d8</td>\n",
       "      <td>IMG</td>\n",
       "      <td>2025-10-30</td>\n",
       "    </tr>\n",
       "    <tr>\n",
       "      <th>407</th>\n",
       "      <td>408</td>\n",
       "      <td>5f6ba801ac7361548eb12183a</td>\n",
       "      <td>IMG</td>\n",
       "      <td>2025-10-30</td>\n",
       "    </tr>\n",
       "    <tr>\n",
       "      <th>408</th>\n",
       "      <td>409</td>\n",
       "      <td>a90a8073afbede0c4be5c5c94</td>\n",
       "      <td>IMG</td>\n",
       "      <td>2025-10-30</td>\n",
       "    </tr>\n",
       "  </tbody>\n",
       "</table>\n",
       "<p>409 rows × 4 columns</p>\n",
       "</div>"
      ],
      "text/plain": [
       "     id_data                  path_data tp_data dt_inclusion\n",
       "0          1  a8201eab663f463f48270a9b8     IMG   2025-10-30\n",
       "1          2  3d3f333ec722fd2ac30bc504d     IMG   2025-10-30\n",
       "2          3  da485b0d4098655423d68944f     IMG   2025-10-30\n",
       "3          4  35174fa7d8b1efce6b748a73f     IMG   2025-10-30\n",
       "4          5  322c0cf443a905adf95043c7b     IMG   2025-10-30\n",
       "..       ...                        ...     ...          ...\n",
       "404      405  82e6db1690d028f2bb014a1c7     IMG   2025-10-30\n",
       "405      406  b6bb4c55af5617834356f567c     IMG   2025-10-30\n",
       "406      407  6c458ac0e3433df5dedc8c5d8     IMG   2025-10-30\n",
       "407      408  5f6ba801ac7361548eb12183a     IMG   2025-10-30\n",
       "408      409  a90a8073afbede0c4be5c5c94     IMG   2025-10-30\n",
       "\n",
       "[409 rows x 4 columns]"
      ]
     },
     "execution_count": 4,
     "metadata": {},
     "output_type": "execute_result"
    }
   ],
   "source": [
    "df = select_data('SELECT * FROM DATA')\n",
    "df"
   ]
  },
  {
   "cell_type": "code",
   "execution_count": null,
   "id": "aa146330",
   "metadata": {},
   "outputs": [
    {
     "data": {
      "text/plain": [
       "'1,3'"
      ]
     },
     "execution_count": 20,
     "metadata": {},
     "output_type": "execute_result"
    }
   ],
   "source": [
    "not_is = ['a', 1, 3]\n",
    "\n",
    "if isinstance(not_is, list):\n",
    "    not_is = [n for n in not_is if isinstance(n, int)]\n",
    "\n",
    "\n"
   ]
  }
 ],
 "metadata": {
  "kernelspec": {
   "display_name": ".venv (3.13.9)",
   "language": "python",
   "name": "python3"
  },
  "language_info": {
   "codemirror_mode": {
    "name": "ipython",
    "version": 3
   },
   "file_extension": ".py",
   "mimetype": "text/x-python",
   "name": "python",
   "nbconvert_exporter": "python",
   "pygments_lexer": "ipython3",
   "version": "3.13.9"
  }
 },
 "nbformat": 4,
 "nbformat_minor": 5
}
