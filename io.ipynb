{
 "cells": [
  {
   "cell_type": "code",
   "id": "d9d7b6e0",
   "metadata": {
    "ExecuteTime": {
     "end_time": "2025-10-09T22:33:45.048298Z",
     "start_time": "2025-10-09T22:33:45.045417Z"
    }
   },
   "source": [
    "import cv2\n",
    "import numpy as np"
   ],
   "outputs": [],
   "execution_count": 8
  },
  {
   "metadata": {
    "ExecuteTime": {
     "end_time": "2025-10-09T22:37:19.190688Z",
     "start_time": "2025-10-09T22:37:19.186337Z"
    }
   },
   "cell_type": "code",
   "source": [
    "def pc_imgs_equals(img_1, img_2):\n",
    "    return 0 if img_1.shape != img_2.shape else (np.sum(img_1 == img_2) / img_1.size) * 100\n"
   ],
   "id": "80315df5f440a6a4",
   "outputs": [],
   "execution_count": 16
  },
  {
   "cell_type": "code",
   "id": "60682440",
   "metadata": {
    "ExecuteTime": {
     "end_time": "2025-10-09T22:38:18.083202Z",
     "start_time": "2025-10-09T22:38:18.078063Z"
    }
   },
   "source": [
    "img_1 = cv2.imread('dataset/Apple hit 1/r0_3_100.jpg', cv2.IMREAD_GRAYSCALE)\n",
    "img_2 = cv2.imread('dataset/Apple hit 1/r0_7_100.jpg', cv2.IMREAD_GRAYSCALE)\n",
    "pc_imgs_equals(img_1, img_2)"
   ],
   "outputs": [
    {
     "data": {
      "text/plain": [
       "np.float64(28.4)"
      ]
     },
     "execution_count": 22,
     "metadata": {},
     "output_type": "execute_result"
    }
   ],
   "execution_count": 22
  }
 ],
 "metadata": {
  "kernelspec": {
   "display_name": "Python 3",
   "language": "python",
   "name": "python3"
  },
  "language_info": {
   "codemirror_mode": {
    "name": "ipython",
    "version": 3
   },
   "file_extension": ".py",
   "mimetype": "text/x-python",
   "name": "python",
   "nbconvert_exporter": "python",
   "pygments_lexer": "ipython3",
   "version": "3.12.10"
  }
 },
 "nbformat": 4,
 "nbformat_minor": 5
}
