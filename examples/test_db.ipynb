{
 "cells": [
  {
   "cell_type": "code",
   "execution_count": 8,
   "id": "4f6f68d3",
   "metadata": {},
   "outputs": [],
   "source": [
    "import pandas as pd\n",
    "from sqlalchemy import create_engine"
   ]
  },
  {
   "cell_type": "code",
   "execution_count": 9,
   "id": "9f18601f",
   "metadata": {},
   "outputs": [],
   "source": [
    "POSTGRES_HOST = 'localhost'\n",
    "POSTGRES_PORT = 5432\n",
    "POSTGRES_USER = 'admin'\n",
    "POSTGRES_PASSWORD = 'admin123'\n",
    "POSTGRES_DB = 'app_db'\n",
    "      \n",
    "engine = create_engine(f\"postgresql+psycopg2://{POSTGRES_USER}:{POSTGRES_PASSWORD}@{POSTGRES_HOST}:{POSTGRES_PORT}/{POSTGRES_DB}\")"
   ]
  },
  {
   "cell_type": "code",
   "execution_count": 29,
   "id": "ae79aa29",
   "metadata": {},
   "outputs": [],
   "source": [
    "def convert_dict(list):\n",
    "    result = {}\n",
    "\n",
    "    for item in list:\n",
    "        for key, value in item.items():\n",
    "            if key not in result:\n",
    "                result[key] = []\n",
    "            result[key].append(value)\n",
    "\n",
    "    return result\n"
   ]
  },
  {
   "cell_type": "code",
   "execution_count": 24,
   "id": "fdb9cc7c",
   "metadata": {},
   "outputs": [],
   "source": [
    "def insert_data(table, data, need_convert=True):\n",
    "    if need_convert:\n",
    "        data = convert_dict(data)\n",
    "        \n",
    "    pd.DataFrame(data).to_sql(table.lower(), engine, if_exists=\"append\", index=False)"
   ]
  },
  {
   "cell_type": "code",
   "execution_count": 27,
   "id": "66fa02ec",
   "metadata": {},
   "outputs": [],
   "source": [
    "dados = [\n",
    "    {'nm_product': 'Maça', 'vl_product': 30},\n",
    "    {'nm_product': 'Pêra', 'vl_product': 22}\n",
    "]\n",
    "\n",
    "insert_data('product', dados)"
   ]
  },
  {
   "cell_type": "code",
   "execution_count": 28,
   "id": "cf29b135",
   "metadata": {},
   "outputs": [
    {
     "data": {
      "text/html": [
       "<div>\n",
       "<style scoped>\n",
       "    .dataframe tbody tr th:only-of-type {\n",
       "        vertical-align: middle;\n",
       "    }\n",
       "\n",
       "    .dataframe tbody tr th {\n",
       "        vertical-align: top;\n",
       "    }\n",
       "\n",
       "    .dataframe thead th {\n",
       "        text-align: right;\n",
       "    }\n",
       "</style>\n",
       "<table border=\"1\" class=\"dataframe\">\n",
       "  <thead>\n",
       "    <tr style=\"text-align: right;\">\n",
       "      <th></th>\n",
       "      <th>id_product</th>\n",
       "      <th>nm_product</th>\n",
       "      <th>vl_product</th>\n",
       "    </tr>\n",
       "  </thead>\n",
       "  <tbody>\n",
       "    <tr>\n",
       "      <th>0</th>\n",
       "      <td>1</td>\n",
       "      <td>Maça</td>\n",
       "      <td>30.0</td>\n",
       "    </tr>\n",
       "    <tr>\n",
       "      <th>1</th>\n",
       "      <td>2</td>\n",
       "      <td>Pêra</td>\n",
       "      <td>22.0</td>\n",
       "    </tr>\n",
       "    <tr>\n",
       "      <th>2</th>\n",
       "      <td>3</td>\n",
       "      <td>Maça</td>\n",
       "      <td>30.0</td>\n",
       "    </tr>\n",
       "    <tr>\n",
       "      <th>3</th>\n",
       "      <td>4</td>\n",
       "      <td>Pêra</td>\n",
       "      <td>22.0</td>\n",
       "    </tr>\n",
       "    <tr>\n",
       "      <th>4</th>\n",
       "      <td>5</td>\n",
       "      <td>Maça</td>\n",
       "      <td>30.0</td>\n",
       "    </tr>\n",
       "    <tr>\n",
       "      <th>5</th>\n",
       "      <td>6</td>\n",
       "      <td>Pêra</td>\n",
       "      <td>22.0</td>\n",
       "    </tr>\n",
       "    <tr>\n",
       "      <th>6</th>\n",
       "      <td>7</td>\n",
       "      <td>Maça</td>\n",
       "      <td>30.0</td>\n",
       "    </tr>\n",
       "    <tr>\n",
       "      <th>7</th>\n",
       "      <td>8</td>\n",
       "      <td>Pêra</td>\n",
       "      <td>22.0</td>\n",
       "    </tr>\n",
       "  </tbody>\n",
       "</table>\n",
       "</div>"
      ],
      "text/plain": [
       "   id_product nm_product  vl_product\n",
       "0           1       Maça        30.0\n",
       "1           2       Pêra        22.0\n",
       "2           3       Maça        30.0\n",
       "3           4       Pêra        22.0\n",
       "4           5       Maça        30.0\n",
       "5           6       Pêra        22.0\n",
       "6           7       Maça        30.0\n",
       "7           8       Pêra        22.0"
      ]
     },
     "execution_count": 28,
     "metadata": {},
     "output_type": "execute_result"
    }
   ],
   "source": [
    "df_select = pd.read_sql(\"SELECT * FROM PRODUCT\", engine)\n",
    "df_select"
   ]
  }
 ],
 "metadata": {
  "kernelspec": {
   "display_name": ".venv",
   "language": "python",
   "name": "python3"
  },
  "language_info": {
   "codemirror_mode": {
    "name": "ipython",
    "version": 3
   },
   "file_extension": ".py",
   "mimetype": "text/x-python",
   "name": "python",
   "nbconvert_exporter": "python",
   "pygments_lexer": "ipython3",
   "version": "3.12.10"
  }
 },
 "nbformat": 4,
 "nbformat_minor": 5
}
