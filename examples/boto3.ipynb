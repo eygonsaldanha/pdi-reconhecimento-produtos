{
 "cells": [
  {
   "cell_type": "code",
   "execution_count": 52,
   "id": "d9d7b6e0",
   "metadata": {},
   "outputs": [],
   "source": [
    "import boto3\n",
    "import os\n",
    "import cv2\n",
    "import io\n",
    "from botocore.exceptions import ClientError"
   ]
  },
  {
   "cell_type": "code",
   "execution_count": 53,
   "id": "e49bde31",
   "metadata": {},
   "outputs": [],
   "source": [
    "minio_client = boto3.client(\n",
    "    \"s3\",\n",
    "    endpoint_url=\"http://localhost:9000\",\n",
    "    aws_access_key_id=\"admin\",\n",
    "    aws_secret_access_key=\"admin123\"\n",
    ")"
   ]
  },
  {
   "cell_type": "code",
   "execution_count": null,
   "id": "bba00ec4",
   "metadata": {},
   "outputs": [],
   "source": [
    "def upload_img(image_path, bucket_name=\"imgs\"):\n",
    "    try:\n",
    "        minio_client.head_bucket(Bucket=bucket_name)\n",
    "    except ClientError:\n",
    "        minio_client.create_bucket(Bucket=bucket_name)\n",
    "\n",
    "    object_name = image_path.replace(\"imgs/\", \"\", 1)\n",
    "\n",
    "    _, extension = os.path.splitext(object_name)\n",
    "    extension = extension.lstrip(\".\")\n",
    "\n",
    "    image = cv2.imread(image_path)\n",
    "    if image is None:\n",
    "        raise FileNotFoundError(f\"Imagem {image_path} não encontrada!\")\n",
    "\n",
    "    _, buffer = cv2.imencode(f\".{extension}\", image)\n",
    "    image_bytes = io.BytesIO(buffer)\n",
    "\n",
    "    minio_client.put_object(\n",
    "        Bucket=bucket_name,\n",
    "        Key=object_name,\n",
    "        Body=image_bytes.getvalue(),\n",
    "        ContentType=f\"image/{extension}\"\n",
    "    )\n",
    "    print(f\"Imagem {object_name} enviada com sucesso para o bucket '{bucket_name}'!\")\n",
    "\n",
    "def upload_imgs(images_path, bucket_name=\"imgs\"):\n",
    "    for image_path in images_path:\n",
    "        upload_img(image_path, bucket_name)"
   ]
  },
  {
   "cell_type": "code",
   "execution_count": null,
   "id": "60682440",
   "metadata": {},
   "outputs": [],
   "source": [
    "paths = [\"imgs/animals/cat.jpeg\", \"imgs/animals/dog.jpg\"]\n",
    "upload_imgs(paths)"
   ]
  },
  {
   "cell_type": "code",
   "execution_count": 59,
   "id": "bf2c97ef",
   "metadata": {},
   "outputs": [],
   "source": [
    "import io # Para lidar com o stream de bytes\n",
    "bucket_name = 'dataset'\n",
    "\n",
    "def get_single_object(object_name):\n",
    "    try:\n",
    "        response = minio_client.get_object(\n",
    "            Bucket=bucket_name,\n",
    "            Key=object_name\n",
    "        )\n",
    "\n",
    "        file_data = response['Body'].read()\n",
    "        response['Body'].close() \n",
    "        \n",
    "        return file_data\n",
    "\n",
    "    except ClientError as e:\n",
    "        error_code = e.response['Error']['Code']\n",
    "        if error_code == 'NoSuchKey':\n",
    "            print(f\"Erro: Objeto '{object_name}' não encontrado no bucket '{bucket_name}'.\")\n",
    "        else:\n",
    "            print(f\"Erro ao baixar objeto: {e}\")\n",
    "        return None\n"
   ]
  },
  {
   "cell_type": "code",
   "execution_count": null,
   "id": "7d6e84db",
   "metadata": {},
   "outputs": [
    {
     "data": {
      "text/plain": [
       "array([[[255, 255, 255],\n",
       "        [255, 255, 255],\n",
       "        [255, 255, 255],\n",
       "        ...,\n",
       "        [255, 255, 255],\n",
       "        [255, 255, 255],\n",
       "        [255, 255, 255]],\n",
       "\n",
       "       [[255, 255, 255],\n",
       "        [255, 255, 255],\n",
       "        [255, 255, 255],\n",
       "        ...,\n",
       "        [255, 255, 255],\n",
       "        [255, 255, 255],\n",
       "        [255, 255, 255]],\n",
       "\n",
       "       [[255, 255, 255],\n",
       "        [255, 255, 255],\n",
       "        [255, 255, 255],\n",
       "        ...,\n",
       "        [255, 255, 255],\n",
       "        [255, 255, 255],\n",
       "        [255, 255, 255]],\n",
       "\n",
       "       ...,\n",
       "\n",
       "       [[255, 255, 255],\n",
       "        [255, 255, 255],\n",
       "        [255, 255, 255],\n",
       "        ...,\n",
       "        [255, 255, 255],\n",
       "        [255, 255, 255],\n",
       "        [255, 255, 255]],\n",
       "\n",
       "       [[255, 255, 255],\n",
       "        [255, 255, 255],\n",
       "        [255, 255, 255],\n",
       "        ...,\n",
       "        [255, 255, 255],\n",
       "        [255, 255, 255],\n",
       "        [255, 255, 255]],\n",
       "\n",
       "       [[255, 255, 255],\n",
       "        [255, 255, 255],\n",
       "        [255, 255, 255],\n",
       "        ...,\n",
       "        [255, 255, 255],\n",
       "        [255, 255, 255],\n",
       "        [255, 255, 255]]], shape=(100, 100, 3), dtype=uint8)"
      ]
     },
     "execution_count": 61,
     "metadata": {},
     "output_type": "execute_result"
    }
   ],
   "source": [
    "import cv2\n",
    "import numpy as np\n",
    "np_array = np.frombuffer(get_single_object('0a958e0c02198e07ce2e86d47'), np.uint8)\n",
    "img_original = cv2.imdecode(np_array, cv2.IMREAD_COLOR)\n",
    "img_original"
   ]
  },
  {
   "cell_type": "code",
   "execution_count": 62,
   "id": "cf78d874",
   "metadata": {},
   "outputs": [
    {
     "data": {
      "text/plain": [
       "[{'Key': '0a958e0c02198e07ce2e86d47',\n",
       "  'Size': 4138,\n",
       "  'LastModified': datetime.datetime(2025, 10, 28, 17, 33, 43, 539000, tzinfo=tzutc())},\n",
       " {'Key': 'object_name',\n",
       "  'Size': 4138,\n",
       "  'LastModified': datetime.datetime(2025, 10, 28, 17, 22, 25, 733000, tzinfo=tzutc())}]"
      ]
     },
     "execution_count": 62,
     "metadata": {},
     "output_type": "execute_result"
    }
   ],
   "source": [
    "def list_all_objects(prefix=''):\n",
    "    all_objects = []\n",
    "\n",
    "    paginator = minio_client.get_paginator('list_objects_v2')\n",
    "    pages = paginator.paginate(Bucket=bucket_name, Prefix=prefix)\n",
    "\n",
    "    for page in pages:\n",
    "        if 'Contents' in page:\n",
    "            for obj in page['Contents']:\n",
    "                all_objects.append({\n",
    "                    'Key': obj['Key'],\n",
    "                    'Size': obj['Size'],\n",
    "                    'LastModified': obj['LastModified']\n",
    "                })\n",
    "    \n",
    "    if not all_objects:\n",
    "        print(\"Atenção: Nenhum objeto encontrado.\")\n",
    "        \n",
    "    return all_objects\n",
    "\n",
    "list_all_objects()"
   ]
  }
 ],
 "metadata": {
  "kernelspec": {
   "display_name": ".venv (3.13.9)",
   "language": "python",
   "name": "python3"
  },
  "language_info": {
   "codemirror_mode": {
    "name": "ipython",
    "version": 3
   },
   "file_extension": ".py",
   "mimetype": "text/x-python",
   "name": "python",
   "nbconvert_exporter": "python",
   "pygments_lexer": "ipython3",
   "version": "3.13.9"
  }
 },
 "nbformat": 4,
 "nbformat_minor": 5
}
