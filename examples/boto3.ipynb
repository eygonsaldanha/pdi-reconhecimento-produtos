{
 "cells": [
  {
   "cell_type": "code",
   "execution_count": null,
   "id": "d9d7b6e0",
   "metadata": {},
   "outputs": [],
   "source": [
    "import boto3\n",
    "import os\n",
    "import cv2\n",
    "import io\n",
    "from botocore.exceptions import ClientError"
   ]
  },
  {
   "cell_type": "code",
   "execution_count": null,
   "id": "e49bde31",
   "metadata": {},
   "outputs": [],
   "source": [
    "minio_client = boto3.client(\n",
    "    \"s3\",\n",
    "    endpoint_url=\"http://localhost:9000\",\n",
    "    aws_access_key_id=\"admin\",\n",
    "    aws_secret_access_key=\"admin123\"\n",
    ")"
   ]
  },
  {
   "cell_type": "code",
   "execution_count": null,
   "id": "bba00ec4",
   "metadata": {},
   "outputs": [],
   "source": [
    "def upload_img(image_path, bucket_name=\"imgs\"):\n",
    "    try:\n",
    "        minio_client.head_bucket(Bucket=bucket_name)\n",
    "    except ClientError:\n",
    "        minio_client.create_bucket(Bucket=bucket_name)\n",
    "\n",
    "    object_name = image_path.replace(\"imgs/\", \"\", 1)\n",
    "\n",
    "    _, extension = os.path.splitext(object_name)\n",
    "    extension = extension.lstrip(\".\")\n",
    "\n",
    "    image = cv2.imread(image_path)\n",
    "    if image is None:\n",
    "        raise FileNotFoundError(f\"Imagem {image_path} não encontrada!\")\n",
    "\n",
    "    _, buffer = cv2.imencode(f\".{extension}\", image)\n",
    "    image_bytes = io.BytesIO(buffer)\n",
    "\n",
    "    minio_client.put_object(\n",
    "        Bucket=bucket_name,\n",
    "        Key=object_name,\n",
    "        Body=image_bytes.getvalue(),\n",
    "        ContentType=f\"image/{extension}\"\n",
    "    )\n",
    "    print(f\"Imagem {object_name} enviada com sucesso para o bucket '{bucket_name}'!\")\n",
    "\n",
    "def upload_imgs(images_path, bucket_name=\"imgs\"):\n",
    "    for image_path in images_path:\n",
    "        upload_img(image_path, bucket_name)"
   ]
  },
  {
   "cell_type": "code",
   "execution_count": null,
   "id": "60682440",
   "metadata": {},
   "outputs": [],
   "source": [
    "paths = [\"imgs/animals/cat.jpeg\", \"imgs/animals/dog.jpg\"]\n",
    "upload_imgs(paths)"
   ]
  }
 ],
 "metadata": {
  "kernelspec": {
   "display_name": "Python 3",
   "language": "python",
   "name": "python3"
  },
  "language_info": {
   "codemirror_mode": {
    "name": "ipython",
    "version": 3
   },
   "file_extension": ".py",
   "mimetype": "text/x-python",
   "name": "python",
   "nbconvert_exporter": "python",
   "pygments_lexer": "ipython3",
   "version": "3.12.10"
  }
 },
 "nbformat": 4,
 "nbformat_minor": 5
}
