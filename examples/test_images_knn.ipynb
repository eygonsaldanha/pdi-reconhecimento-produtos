{
 "cells": [
  {
   "cell_type": "code",
   "execution_count": null,
   "id": "3f051dce",
   "metadata": {},
   "outputs": [],
   "source": [
    "import numpy as np\n",
    "from sklearn.neighbors import NearestNeighbors\n",
    "import pandas as pd\n",
    "import base64\n",
    "import cv2\n",
    "import os\n",
    "import io\n",
    "from IPython.display import HTML, display\n",
    "import cv2\n",
    "import numpy as np\n",
    "from sklearn.neighbors import NearestNeighbors"
   ]
  },
  {
   "cell_type": "code",
   "execution_count": 11,
   "id": "03bde57b",
   "metadata": {},
   "outputs": [],
   "source": [
    "def img_to_html(img):\n",
    "    img_rgb = cv2.cvtColor(img, cv2.COLOR_BGR2RGB)\n",
    "    _, buffer = cv2.imencode('.png', img_rgb)\n",
    "    base64_img = base64.b64encode(buffer).decode('utf-8')\n",
    "    return f'<img src=\"data:image/png;base64,{base64_img}\" width=\"80\" height=\"80\" />'"
   ]
  },
  {
   "cell_type": "code",
   "execution_count": 12,
   "id": "0792f859",
   "metadata": {},
   "outputs": [],
   "source": [
    "def extrair_histogramas(image):\n",
    "    gray = cv2.cvtColor(image, cv2.COLOR_BGR2GRAY)\n",
    "    hist_gray = cv2.calcHist([gray], [0], None, [256], [0, 256])\n",
    "    hist_gray = cv2.normalize(hist_gray, hist_gray).flatten()\n",
    "\n",
    "    hist_b = cv2.calcHist([image], [0], None, [256], [0, 256])\n",
    "    hist_g = cv2.calcHist([image], [1], None, [256], [0, 256])\n",
    "    hist_r = cv2.calcHist([image], [2], None, [256], [0, 256])\n",
    "\n",
    "    hist_rgb = np.concatenate([\n",
    "        cv2.normalize(hist_b, hist_b).flatten(),\n",
    "        cv2.normalize(hist_g, hist_g).flatten(),\n",
    "        cv2.normalize(hist_r, hist_r).flatten()\n",
    "    ])\n",
    "    return np.concatenate([hist_gray, hist_rgb])"
   ]
  },
  {
   "cell_type": "code",
   "execution_count": 13,
   "id": "da6b9e27",
   "metadata": {},
   "outputs": [],
   "source": [
    "ALLOWED_EXTENSIONS = {'png', 'jpg', 'jpeg', 'gif', 'bmp', 'tiff'}\n",
    "\n",
    "def allowed_file(filename):\n",
    "    return '.' in filename and \\\n",
    "        filename.rsplit('.', 1)[1].lower() in ALLOWED_EXTENSIONS"
   ]
  },
  {
   "cell_type": "code",
   "execution_count": 14,
   "id": "d1683a0b",
   "metadata": {},
   "outputs": [],
   "source": [
    "path = \"../dataset\"\n",
    "all_images_paths = []\n",
    "\n",
    "def find_files(path):\n",
    "    for name in os.listdir(path):\n",
    "        full_path = os.path.join(path, name)\n",
    "        if os.path.isdir(full_path):\n",
    "            find_files(full_path)\n",
    "        elif os.path.isfile(full_path) and allowed_file(name):\n",
    "            all_images_paths.append(full_path)\n",
    "\n",
    "find_files(path)"
   ]
  },
  {
   "cell_type": "code",
   "execution_count": null,
   "id": "82c0526f",
   "metadata": {},
   "outputs": [],
   "source": [
    "all_images = [cv2.imread(name) for name in all_images_paths]\n",
    "X = np.array([extrair_histogramas(img) for img in all_images])\n",
    "\n",
    "query_img = cv2.imread(\"../dataset/Apple/9_100.jpg\")\n",
    "query = extrair_histogramas(query_img).reshape(1, -1)\n",
    "\n",
    "knn = NearestNeighbors(n_neighbors=len(all_images_paths), metric=\"euclidean\")\n",
    "knn.fit(X)\n",
    "\n",
    "distances, indices = knn.kneighbors(query)"
   ]
  },
  {
   "cell_type": "code",
   "execution_count": null,
   "id": "53a0882f",
   "metadata": {},
   "outputs": [
    {
     "data": {
      "text/plain": [
       "0    ../dataset/Apple/9_100.jpg\n",
       "Name: Nome da Imagem, dtype: object"
      ]
     },
     "execution_count": 21,
     "metadata": {},
     "output_type": "execute_result"
    }
   ],
   "source": [
    "results = []\n",
    "for rank, idx in enumerate(indices[0]):\n",
    "    image_name = all_images_paths[idx]\n",
    "    distance = round(float(distances[0][rank]), 5)\n",
    "    similarity = round(float(1 / (1 + distance)), 2)\n",
    "    image = img_to_html(all_images[idx])\n",
    "    results.append({\n",
    "        \"Rank\": rank + 1,\n",
    "        \"Nome da Imagem\":image_name,\n",
    "        \"Distância\": distance,\n",
    "        'Similaridade': similarity,\n",
    "        \"Imagem\": image\n",
    "    })\n",
    "\n",
    "df_results = pd.DataFrame(results)\n",
    "df_results = df_results.sort_values(by=\"Distância\", ascending=True).reset_index(drop=True)\n",
    "pd.set_option('display.max_colwidth', None)\n",
    "# display(HTML(df_results.to_html(escape=False)))\n",
    "\n",
    "df_results[df_results['Rank'] == 1]['Nome da Imagem']\n"
   ]
  }
 ],
 "metadata": {
  "kernelspec": {
   "display_name": ".venv (3.13.9)",
   "language": "python",
   "name": "python3"
  },
  "language_info": {
   "codemirror_mode": {
    "name": "ipython",
    "version": 3
   },
   "file_extension": ".py",
   "mimetype": "text/x-python",
   "name": "python",
   "nbconvert_exporter": "python",
   "pygments_lexer": "ipython3",
   "version": "3.13.9"
  }
 },
 "nbformat": 4,
 "nbformat_minor": 5
}
